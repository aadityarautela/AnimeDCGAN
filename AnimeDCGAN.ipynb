{
 "cells": [
  {
   "cell_type": "markdown",
   "metadata": {},
   "source": [
    "## Dataset\n",
    "https://www.kaggle.com/splcher/animefacedataset"
   ]
  },
  {
   "cell_type": "code",
   "execution_count": null,
   "metadata": {},
   "outputs": [],
   "source": [
    "from __future__ import print_function\n",
    "#%matplotlib inline\n",
    "import argparse\n",
    "import os\n",
    "import random\n",
    "import torch\n",
    "import torch.nn as nn\n",
    "import torch.nn.parallel\n",
    "import torch.backends.cudnn as cudnn\n",
    "import torch.optim as optim\n",
    "import torch.utils.data\n",
    "import torchvision.datasets as dset\n",
    "import torchvision.transforms as transforms\n",
    "import torchvision.utils as vutils\n",
    "import numpy as np\n",
    "import matplotlib.pyplot as plt\n",
    "import matplotlib.animation as animation\n",
    "from IPython.display import HTML\n",
    "\n",
    "seed = random.randint(1,10000000)\n",
    "random.seed(seed)\n",
    "torch.manual_seed(seed)"
   ]
  },
  {
   "cell_type": "code",
   "execution_count": null,
   "metadata": {},
   "outputs": [],
   "source": [
    "device = torch.device(\"cuda:0\" if torch.cuda.is_available() else \"cpu\") "
   ]
  },
  {
   "cell_type": "code",
   "execution_count": null,
   "metadata": {},
   "outputs": [],
   "source": [
    "dataroot = 'dataset/'\n",
    "batch_size = 128\n",
    "img_size = 64\n",
    "num_channel = 3\n",
    "workers = 2\n",
    "num_z = 3\n",
    "num_generator_feature = 64\n",
    "num_discriminator_feature = 64\n",
    "num_epochs = 100\n",
    "lr = 0.0002\n",
    "beta1 = 0.5"
   ]
  },
  {
   "cell_type": "code",
   "execution_count": null,
   "metadata": {},
   "outputs": [],
   "source": [
    "dataset = dset.ImageFolder(root=dataroot,\n",
    "                           transform=transforms.Compose([\n",
    "                               transforms.CenterCrop(img_size),\n",
    "                               transforms.ToTensor(),\n",
    "                               transforms.Normalize((0.5, 0.5, 0.5), (0.5, 0.5, 0.5)),\n",
    "                           ]))\n",
    "dataloader = torch.utils.data.DataLoader(dataset, batch_size=batch_size, shuffle=True, num_workers=workers)\n",
    "real_batch = next(iter(dataloader))\n",
    "plt.figure(figsize=(8,8))\n",
    "plt.axis(\"off\")\n",
    "plt.title(\"Training Images\")\n",
    "plt.imshow(np.transpose(vutils.make_grid(real_batch[0].to(device)[:64], padding=2, normalize=True).cpu(),(1,2,0)))"
   ]
  },
  {
   "cell_type": "code",
   "execution_count": null,
   "metadata": {},
   "outputs": [],
   "source": [
    "def weights_init(w):\n",
    "    classname = w.__class__.__name__\n",
    "    if classname.find('Conv') != -1:\n",
    "        nn.init.normal_(w.weight.data, 0.0, 0.02)\n",
    "    elif classname.find('BatchNorm') != -1:\n",
    "            nn.init.normal_(w.weight.data, 1.0, 0.02)\n",
    "            nn.init.constant_(w.bias.data, 0)"
   ]
  },
  {
   "cell_type": "code",
   "execution_count": null,
   "metadata": {},
   "outputs": [],
   "source": [
    "class Generator(nn.Module):\n",
    "    def __init__(self):\n",
    "        super(Generator, self).__init__()\n",
    "        self.ngpu = 1\n",
    "        self.main = nn.Sequential(\n",
    "            nn.ConvTranspose2d( num_z, num_generator_feature * 8, 4, 1, 0, bias=False),\n",
    "            nn.BatchNorm2d(num_generator_feature * 8),\n",
    "            nn.ReLU(True),\n",
    "            nn.ConvTranspose2d(num_generator_feature * 8, num_generator_feature * 4, 4, 2, 1, bias=False),\n",
    "            nn.BatchNorm2d(num_generator_feature * 4),\n",
    "            nn.ReLU(True),\n",
    "            nn.ConvTranspose2d( num_generator_feature * 4, num_generator_feature * 2, 4, 2, 1, bias=False),\n",
    "            nn.BatchNorm2d(num_generator_feature * 2),\n",
    "            nn.ReLU(True),\n",
    "            nn.ConvTranspose2d( num_generator_feature * 2, num_generator_feature, 4, 2, 1, bias=False),\n",
    "            nn.BatchNorm2d(num_generator_feature),\n",
    "            nn.ReLU(True),\n",
    "            nn.ConvTranspose2d( num_generator_feature, num_channel, 4, 2, 1, bias=False),\n",
    "            nn.Tanh()\n",
    "            )\n",
    "\n",
    "    def forward(self, input):\n",
    "        return self.main(input)"
   ]
  },
  {
   "cell_type": "code",
   "execution_count": null,
   "metadata": {},
   "outputs": [],
   "source": [
    "net_generator = Generator().to(device)\n",
    "net_generator.apply(weights_init)\n",
    "print(net_generator)"
   ]
  },
  {
   "cell_type": "code",
   "execution_count": null,
   "metadata": {},
   "outputs": [],
   "source": [
    "class Discriminator(nn.Module):\n",
    "    def __init__(self):\n",
    "        super(Discriminator, self).__init__()\n",
    "        self.ngpu = 1\n",
    "        self.main = nn.Sequential(\n",
    "            nn.Conv2d(num_channel, num_discriminator_feature, 4, 2, 1, bias=False),\n",
    "            nn.LeakyReLU(0.2, inplace=True),\n",
    "            nn.Conv2d(num_discriminator_feature, num_discriminator_feature * 2, 4, 2, 1, bias=False),\n",
    "            nn.BatchNorm2d(num_discriminator_feature * 2),\n",
    "            nn.LeakyReLU(0.2, inplace=True),\n",
    "            nn.Conv2d(num_discriminator_feature * 2, num_discriminator_feature * 4, 4, 2, 1, bias=False),\n",
    "            nn.BatchNorm2d(num_discriminator_feature * 4),\n",
    "            nn.LeakyReLU(0.2, inplace=True),\n",
    "            nn.Conv2d(num_discriminator_feature * 4, num_discriminator_feature * 8, 4, 2, 1, bias=False),\n",
    "            nn.BatchNorm2d(num_discriminator_feature * 8),\n",
    "            nn.LeakyReLU(0.2, inplace=True),\n",
    "            nn.Conv2d(num_discriminator_feature * 8, 1, 4, 1, 0, bias=False),\n",
    "            nn.Sigmoid()\n",
    "        )\n",
    "\n",
    "    def forward(self, input):\n",
    "        return self.main(input)"
   ]
  },
  {
   "cell_type": "code",
   "execution_count": null,
   "metadata": {},
   "outputs": [],
   "source": [
    "net_discriminator = Discriminator().to(device)\n",
    "net_discriminator.apply(weights_init)\n",
    "print(net_discriminator)"
   ]
  },
  {
   "cell_type": "code",
   "execution_count": null,
   "metadata": {},
   "outputs": [],
   "source": [
    "loss  = nn.BCELoss()\n",
    "real_label = 1.\n",
    "fake_label = 0.\n",
    "fixed_noise = torch.randn(64, num_z, 1, 1, device=device)\n",
    "optimizer_discriminator = optim.Adam(net_discriminator.parameters(), lr=lr, betas=(beta1, 0.999))\n",
    "optimizer_generator = optim.Adam(net_generator.parameters(), lr=lr, betas=(beta1, 0.999))"
   ]
  },
  {
   "cell_type": "code",
   "execution_count": null,
   "metadata": {},
   "outputs": [],
   "source": [
    "img_list = []\n",
    "generator_losses = []\n",
    "discriminator_losses = []\n",
    "iters = 0\n",
    "\n",
    "for epoch in range(num_epochs):\n",
    "    for i,data in enumerate(dataloader,0):\n",
    "        net_discriminator.zero_grad()\n",
    "        real = data[0].to(device)\n",
    "        b_size = real.size(0)\n",
    "        label = torch.full((b_size,), real_label, dtype=torch.float, device=device)\n",
    "        output = net_discriminator(real).view(-1)\n",
    "        error_discriminator_real = loss(output, label)\n",
    "        error_discriminator_real.backward()\n",
    "        D_x = output.mean().item()\n",
    "        \n",
    "        noise = torch.randn(b_size, num_z, 1, 1, device=device)\n",
    "        fake = net_generator(noise)\n",
    "        label.fill_(fake_label)\n",
    "        output = net_discriminator(fake.detach()).view(-1)\n",
    "        error_discriminator_fake = loss(output, label)\n",
    "        error_discriminator_fake.backward()\n",
    "        D_G_z1 = output.mean().item()\n",
    "        \n",
    "        error_discriminator = error_discriminator_real + error_discriminator_fake\n",
    "        optimizer_discriminator.step()\n",
    "        \n",
    "        net_generator.zero_grad()\n",
    "        label.fill_(real_label)\n",
    "        output = net_discriminator(fake).view(-1)\n",
    "        error_generator = loss(output, label)\n",
    "        error_generator.backward()\n",
    "        D_G_z2 = output.mean().item()\n",
    "        \n",
    "        optimizer_generator.step()\n",
    "        \n",
    "        if i % 10 == 0:\n",
    "            print('[%d/%d][%d/%d]\\tLoss_D: %.4f\\tLoss_G: %.4f\\tD(x): %.4f\\tD(G(z)): %.4f / %.4f'\n",
    "                  % (epoch, num_epochs, i, len(dataloader),\n",
    "                     error_discriminator.item(), error_generator.item(), D_x, D_G_z1, D_G_z2))\n",
    "        generator_losses.append(error_generator.item())\n",
    "        discriminator_losses.append(error_discriminator.item())\n",
    "        \n",
    "        if (iters % 8 == 0) or ((epoch == num_epochs-1) and (i == len(dataloader)-1)):\n",
    "            with torch.no_grad():\n",
    "                fake = net_generator(fixed_noise).detach().cpu()\n",
    "            img_list.append(vutils.make_grid(fake, padding=2, normalize=True))\n",
    "        iters += 1"
   ]
  },
  {
   "cell_type": "code",
   "execution_count": null,
   "metadata": {},
   "outputs": [],
   "source": [
    "fig = plt.figure(figsize=(8,8))\n",
    "plt.axis(\"off\")\n",
    "ims = [[plt.imshow(np.transpose(i,(1,2,0)), animated=True)] for i in img_list]"
   ]
  },
  {
   "cell_type": "code",
   "execution_count": null,
   "metadata": {},
   "outputs": [],
   "source": []
  }
 ],
 "metadata": {
  "kernelspec": {
   "display_name": "Python 3",
   "language": "python",
   "name": "python3"
  },
  "language_info": {
   "codemirror_mode": {
    "name": "ipython",
    "version": 3
   },
   "file_extension": ".py",
   "mimetype": "text/x-python",
   "name": "python",
   "nbconvert_exporter": "python",
   "pygments_lexer": "ipython3",
   "version": "3.8.5"
  }
 },
 "nbformat": 4,
 "nbformat_minor": 4
}
